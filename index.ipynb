{
 "cells": [
  {
   "cell_type": "markdown",
   "metadata": {},
   "source": [
    "# Cafélytics\n",
    "---\n",
    "\n",
    "## Backstory\n",
    "\n",
    "\n",
    "In 2012 Michael Pilosov traveled to a coffee cooperative in Guatemala as a volunteer. \n",
    "For his volunteer project, he decided to apply his mathematical and coding abilities to analyze strategies for the co-op’s agricultural development. \n",
    "He discovered the data that had been collected by co-op over the years was sparse, containing only very basic information about land ownership and species planted. \n",
    "\n",
    "Michael did what he could despite the lack of data--he developed a model that projected a general trend of future yields cooperative-wide, using information gathered from conversations.\n",
    "Equipped with a model, he discovered that, despite a bright forecast for growth in the coming years, the co-op was not on track to sustain consistent harvests in the long-term. \n",
    "The current operational state of the co-op (assuming no additional acquisitions of land) depicted large dips in harvest yields.\n",
    "\n",
    "These stemmed from the cyclic nature of the coffee tree itself. \n",
    "Since they were planted at the same time, many trees would deteriorate and require replanting simultaneously.\n",
    "\n",
    "Consequently, the rapid growth of the cooperative would come back to plague them in the form of rapid decline.\n",
    "This posed a serious threat on a medium-term timeline, potentially leading to a complete restructuring of existing arrangements for coffee beans. \n",
    "\n",
    "Michael engaged with the managers to discuss possible strategies to address year-over-year variation in the yields on the horizon. \n",
    "It was necessary for the co-op to execute decisions that would level these production trends to ensure the long-term sustainability of the cooperative.\n",
    "\n",
    "The model could be used to simulate every idea that was proposed (e.g. land investment, tree intercropping, etc.); many scenarios could be played out in search of a feasible strategy to address the looming threats.\n",
    "\n",
    "Sustainability and longevity were the primary operating goals, so an ideal strategy would result in a relatively “flat” yield projection, with perhaps a gentle positive slope.\n",
    "In order to stabilize the cooperative’s future yields, a solution had to be implemented that would mitigate harvest declines without requiring significant capital intervention.\n",
    "\n",
    "Small amounts of land would need to be purchased to supplement the co-op’s present yield trends. \n",
    "Optimal purchase intervals were assessed, but some intervals of expansion exasperated the sustainability problems. \n",
    "\n",
    "Thus, an optimal purchase interval would need to be elected.\n",
    "Simultaneously, it would be necessary for some portion of farmers (or plots) to prematurely upheave healthy trees in the peak of their fruiting maturity.\n",
    "\n",
    "Before their trees entered the final phase and began to produce lower yields, while still at full-capacity, they would need to be cut down and seedlings planted in their place.\n",
    "According to the simulation, about one-third of existing candidate plots would have to be sacrificed for the greater good. \n",
    "This action (in accordance with well-timed land purchases), would keep the cooperative’s yields in a range that allowed them to meet contracts consistently for decades to come. \n",
    "\n",
    "\n",
    "---\n",
    "\n",
    "\n",
    "This code was originally written for Matlab but has since been edited to work with Octave.\n",
    "The original scripts were used to build up a demonstration notebook (this document) to tell a brief version of the story behind the code and the findings from the study. \n",
    "Help is available using the `%help` magic or using `?` with a command. "
   ]
  },
  {
   "cell_type": "code",
   "execution_count": null,
   "metadata": {},
   "outputs": [],
   "source": [
    "% add folder with all of our functions to PATH\n",
    "addpath(\"src\")"
   ]
  },
  {
   "cell_type": "code",
   "execution_count": null,
   "metadata": {
    "scrolled": true
   },
   "outputs": [],
   "source": [
    "% import data using a little wrapper script around xlsread.m\n",
    "data = ImportSurvey('./src/data/farm.xlsx');"
   ]
  },
  {
   "cell_type": "code",
   "execution_count": null,
   "metadata": {},
   "outputs": [],
   "source": [
    "% strategic intervention variables -- baseline\n",
    "PurchaseYear_Borbon=NaN; PurchaseYear_Catuai=NaN; \n",
    "Intercrop_Catuai=NaN; Intercrop_Borbon=NaN; \n",
    "num_years = 101;"
   ]
  },
  {
   "cell_type": "code",
   "execution_count": null,
   "metadata": {},
   "outputs": [],
   "source": [
    "% create baseline simulation\n",
    "[Year, Yield_Orig] = ProdSimulation(data, num_years, PurchaseYear_Borbon, PurchaseYear_Catuai, Intercrop_Catuai, Intercrop_Borbon);"
   ]
  },
  {
   "cell_type": "markdown",
   "metadata": {},
   "source": [
    "## Land-Purchasing Interventions"
   ]
  },
  {
   "cell_type": "code",
   "execution_count": null,
   "metadata": {},
   "outputs": [],
   "source": [
    "% Uncomment following line to purchase land at specified year\n",
    "%PurchaseYear_Borbon=5;  % 20c. of Borbon\n",
    "%PurchaseYear_Catuai=5; % 20c. of Catuai"
   ]
  },
  {
   "cell_type": "markdown",
   "metadata": {},
   "source": [
    "## Intercropping Interventions\n",
    "These were found to have minimal impact on long-term sustainability, but may help ease small declines."
   ]
  },
  {
   "cell_type": "code",
   "execution_count": null,
   "metadata": {},
   "outputs": [],
   "source": [
    "% Uncomment following line to intercrop Catuai in declining\n",
    "% Catuai fields at specified year\n",
    "%Intercrop_Catuai=5;\n",
    "\n",
    "% Uncomment following line to start intercropping Borbon in \n",
    "% declining Catuai fields at specified year\n",
    "Intercrop_Borbon=10;"
   ]
  },
  {
   "cell_type": "code",
   "execution_count": null,
   "metadata": {},
   "outputs": [],
   "source": [
    "[Year, Yield] = ProdSimulation(data, num_years, PurchaseYear_Borbon, PurchaseYear_Catuai, Intercrop_Catuai, Intercrop_Borbon);"
   ]
  },
  {
   "cell_type": "markdown",
   "metadata": {},
   "source": [
    "## Compare Strategic Intervention to Baseline Yield Forecast"
   ]
  },
  {
   "cell_type": "code",
   "execution_count": null,
   "metadata": {},
   "outputs": [],
   "source": [
    "Yields = [Yield_Orig, Yield];  % append vectors as such, first being baseline\n",
    "comparativeline(Year, Yields);"
   ]
  },
  {
   "cell_type": "markdown",
   "metadata": {},
   "source": [
    "## Sensitivity Analysis\n",
    "The simulation only assumes some proportion (about a 30%) of farmers will choose to switch from Catuai to Borbon trees when they perform intercropping, starting 10 years into the process. \n",
    "\n",
    "This means our simulation will produce different results each time it runs since it incorporates some stochasticity. To get a sense of the behavior, we can look at \"spaghetti plots\" to see the variability in the yield forecasts."
   ]
  },
  {
   "cell_type": "code",
   "execution_count": null,
   "metadata": {},
   "outputs": [],
   "source": [
    "% choose a number of times to run simulations\n",
    "num_repeats = 10;"
   ]
  },
  {
   "cell_type": "markdown",
   "metadata": {},
   "source": [
    "### Example\n",
    "If we wait too long before implementing this, we actually lose much of the benefit and end up making the variability even more pronounced."
   ]
  },
  {
   "cell_type": "code",
   "execution_count": null,
   "metadata": {},
   "outputs": [],
   "source": [
    "Intercrop_Borbon = 10; % how many years until strategy is implemented?\n",
    "Yields = [Yield_Orig];\n",
    "for i=1:num_repeats\n",
    "    [Year, Yield] = ProdSimulation(data, num_years, PurchaseYear_Borbon, PurchaseYear_Catuai, Intercrop_Catuai, Intercrop_Borbon);\n",
    "    Yields(:,end+1) = Yield;\n",
    "end\n",
    "comparativeline(Year, Yields);"
   ]
  },
  {
   "cell_type": "code",
   "execution_count": null,
   "metadata": {},
   "outputs": [],
   "source": [
    "Intercrop_Borbon = 15; % how many years until strategy is implemented?\n",
    "Yields = [Yield_Orig];\n",
    "for i=1:num_repeats\n",
    "    [Year, Yield] = ProdSimulation(data, num_years, PurchaseYear_Borbon, PurchaseYear_Catuai, Intercrop_Catuai, Intercrop_Borbon);\n",
    "    Yields(:,end+1) = Yield;\n",
    "end\n",
    "comparativeline(Year, Yields);\n"
   ]
  },
  {
   "cell_type": "code",
   "execution_count": null,
   "metadata": {},
   "outputs": [],
   "source": []
  },
  {
   "cell_type": "code",
   "execution_count": null,
   "metadata": {},
   "outputs": [],
   "source": []
  }
 ],
 "metadata": {
  "anaconda-cloud": {},
  "kernelspec": {
   "display_name": "Octave",
   "language": "octave",
   "name": "octave"
  },
  "language_info": {
   "file_extension": ".m",
   "help_links": [
    {
     "text": "GNU Octave",
     "url": "https://www.gnu.org/software/octave/support.html"
    },
    {
     "text": "Octave Kernel",
     "url": "https://github.com/Calysto/octave_kernel"
    },
    {
     "text": "MetaKernel Magics",
     "url": "https://metakernel.readthedocs.io/en/latest/source/README.html"
    }
   ],
   "mimetype": "text/x-octave",
   "name": "octave",
   "version": "4.2.2"
  }
 },
 "nbformat": 4,
 "nbformat_minor": 4
}
