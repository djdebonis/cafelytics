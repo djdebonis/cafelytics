{
 "cells": [
  {
   "cell_type": "markdown",
   "metadata": {},
   "source": [
    "Jupyter Octave Kernel\n",
    "============\n",
    "\n",
    "Interact with Octave in Notebook. All commands are interpreted by Octave.  Since this is a [MetaKernel](https://github.com/Calysto/metakernel), a standard set of magics are available.  Help on commands is available using the `%help` magic or using `?` with a command."
   ]
  },
  {
   "cell_type": "code",
   "execution_count": 1,
   "metadata": {},
   "outputs": [],
   "source": [
    "% add folder with all of our functions to PATH\n",
    "addpath(\"src\")"
   ]
  },
  {
   "cell_type": "code",
   "execution_count": 2,
   "metadata": {
    "scrolled": true
   },
   "outputs": [
    {
     "name": "stdout",
     "output_type": "stream",
     "text": [
      "Detected XLS interfaces: OpenJDK 64-Bit Server VM warning: Archived non-system classes are disabled because the java.system.class.loader property is specified (value = \"org.octave.OctClassLoader\"). To use archived non-system classes, this property must be not be set\n"
     ]
    }
   ],
   "source": [
    "% import data using a little wrapper script around xlsread.m\n",
    "data = ImportSurvey('./src/data/farm.xlsx');"
   ]
  },
  {
   "cell_type": "code",
   "execution_count": 26,
   "metadata": {},
   "outputs": [],
   "source": [
    "% strategic intervention variables -- baseline\n",
    "PurchaseYear_Borbon=NaN; PurchaseYear_Catuai=NaN; \n",
    "Intercrop_Catuai=NaN; Intercrop_Borbon=NaN; \n",
    "num_years = 51;"
   ]
  },
  {
   "cell_type": "code",
   "execution_count": 27,
   "metadata": {},
   "outputs": [],
   "source": [
    "% create baseline simulation\n",
    "[Year, Yield_Orig] = ProdSimulation(data, num_years, PurchaseYear_Borbon, PurchaseYear_Catuai, Intercrop_Catuai, Intercrop_Borbon);"
   ]
  },
  {
   "cell_type": "markdown",
   "metadata": {},
   "source": [
    "## Land-Purchasing Interventions"
   ]
  },
  {
   "cell_type": "code",
   "execution_count": 28,
   "metadata": {},
   "outputs": [],
   "source": [
    "% Uncomment following line to purchase land at specified year\n",
    "%PurchaseYear_Borbon=5;  % 20c. of Borbon\n",
    "%PurchaseYear_Catuai=5; % 20c. of Catuai"
   ]
  },
  {
   "cell_type": "markdown",
   "metadata": {},
   "source": [
    "## Intercropping Interventions\n",
    "These were found to have minimal impact on long-term sustainability, but may help ease small declines."
   ]
  },
  {
   "cell_type": "code",
   "execution_count": 29,
   "metadata": {},
   "outputs": [],
   "source": [
    "% Uncomment following line to intercrop Catuai in declining\n",
    "% Catuai fields at specified year\n",
    "Intercrop_Catuai=5;\n",
    "\n",
    "% Uncomment following line to start intercropping Borbon in \n",
    "% declining Catuai fields at specified year\n",
    "%Intercrop_Borbon=10;"
   ]
  },
  {
   "cell_type": "code",
   "execution_count": 30,
   "metadata": {},
   "outputs": [],
   "source": [
    "[Year, Yield] = ProdSimulation(data, num_years, PurchaseYear_Borbon, PurchaseYear_Catuai, Intercrop_Catuai, Intercrop_Borbon);"
   ]
  },
  {
   "cell_type": "markdown",
   "metadata": {},
   "source": [
    "## Compare Strategic Intervention to Baseline Yield Forecast"
   ]
  },
  {
   "cell_type": "code",
   "execution_count": 31,
   "metadata": {},
   "outputs": [
    {
     "data": {
      "image/png": "[encoded data removed]",
      "text/plain": [
       "<IPython.core.display.Image object>"
      ]
     },
     "metadata": {},
     "output_type": "display_data"
    }
   ],
   "source": [
    "Yields = [Yield_Orig Yield];\n",
    "comparativeline(Year, Yields);"
   ]
  },
  {
   "cell_type": "code",
   "execution_count": 33,
   "metadata": {},
   "outputs": [
    {
     "name": "stdout",
     "output_type": "stream",
     "text": [
      "y =  1\n",
      "y =  6\n",
      "y =  11\n",
      "y =  16\n",
      "y =  21\n",
      "y =  26\n",
      "y =  31\n",
      "y =  36\n",
      "y =  41\n",
      "y =  46\n",
      "y =  51\n"
     ]
    }
   ],
   "source": [
    "xtick_labels = [];\n",
    "numYears = size(Year,1);\n",
    "for y=1:5:numYears\n",
    "    xtick_labels(end+1) = Year(y);\n",
    "end"
   ]
  },
  {
   "cell_type": "code",
   "execution_count": 24,
   "metadata": {},
   "outputs": [
    {
     "name": "stdout",
     "output_type": "stream",
     "text": [
      "ans =  2061\n"
     ]
    }
   ],
   "source": [
    "Year(50)"
   ]
  },
  {
   "cell_type": "code",
   "execution_count": 163,
   "metadata": {},
   "outputs": [
    {
     "data": {
      "image/png": "[encoded data removed]",
      "text/plain": [
       "<IPython.core.display.Image object>"
      ]
     },
     "metadata": {},
     "output_type": "display_data"
    }
   ],
   "source": [
    "figure1 = figure('NumberTitle','off','Name',sprintf('%d yr', num_years));\n",
    "\n",
    "% Create axes\n",
    "axes1 = axes('Parent',figure1,...\n",
    "             'YMinorTick','on',...\n",
    "             'YGrid','on',...\n",
    "             'XTick',xtick_labels,...\n",
    "             'XMinorTick','on');\n",
    "\n",
    "% Uncomment the following line to preserve the Y-limits of the axes\n",
    "ylim(axes1,[0 35000]);\n",
    "box(axes1,'on');\n",
    "hold(axes1,'all');\n",
    "\n",
    "% Create xlabel\n",
    "xlabel('Year','FontSize',16);\n",
    "\n",
    "% Create ylabel\n",
    "ylabel('Yield (lbs)','FontSize',16);\n",
    "\n",
    "% Create title [TODO: Automatic Title based on Strategy]\n",
    "%title('Purchase 20c. of Borbon in Year 5','FontSize',16);\n",
    "\n",
    "colors = ['blue'; 'red'; 'black'; \"cyan\"];\n",
    "linestyles = {\"-\", \"-\"};\n",
    "linewidths = [5, 3, 2, 1];\n",
    "% Create multiple lines using matrix input to plot\n",
    "plot1 = plot(Year,Yields);\n",
    "for i=1:size(Yields,2)\n",
    "    displayName = sprintf('getcolumn(Year vs. Yield,%d)',i);\n",
    "    ls = mod(i+1,2);\n",
    "    set(plot1(i),...\n",
    "        'LineStyle', linestyles{1+ls},...\n",
    "        'Color', colors(i),...\n",
    "        'LineWidth', linewidths(1+ls),...\n",
    "        'DisplayName', displayName);\n",
    "end"
   ]
  },
  {
   "cell_type": "code",
   "execution_count": null,
   "metadata": {},
   "outputs": [],
   "source": [
    "t = linspace(0,6*pi,100);\n",
    "plot(sin(t))\n",
    "grid on\n",
    "hold on\n",
    "plot(cos(t), 'r')"
   ]
  },
  {
   "cell_type": "code",
   "execution_count": null,
   "metadata": {},
   "outputs": [],
   "source": [
    "%plot --format png\n",
    "tx = ty = linspace (-8, 8, 41)';\n",
    "[xx, yy] = meshgrid (tx, ty);\n",
    "r = sqrt (xx .^ 2 + yy .^ 2) + eps;\n",
    "tz = sin (r) ./ r;\n",
    "mesh (tx, ty, tz);"
   ]
  },
  {
   "cell_type": "code",
   "execution_count": null,
   "metadata": {},
   "outputs": [],
   "source": [
    "a = [1,2,3]"
   ]
  },
  {
   "cell_type": "code",
   "execution_count": null,
   "metadata": {},
   "outputs": [],
   "source": [
    "b = a + 3;"
   ]
  },
  {
   "cell_type": "code",
   "execution_count": null,
   "metadata": {},
   "outputs": [],
   "source": [
    "disp(b)"
   ]
  },
  {
   "cell_type": "markdown",
   "metadata": {},
   "source": [
    "The width or the height can be specified to constrain the image while maintaining the original aspect ratio."
   ]
  },
  {
   "cell_type": "code",
   "execution_count": null,
   "metadata": {},
   "outputs": [],
   "source": [
    "%plot -f png -w 600\n",
    "\n",
    "% butterworth filter, order 2, cutoff pi/2 radians\n",
    "b = [0.292893218813452  0.585786437626905  0.292893218813452];\n",
    "a = [1  0  0.171572875253810];\n",
    "freqz(b, a, 32);"
   ]
  },
  {
   "cell_type": "markdown",
   "metadata": {},
   "source": [
    "Multiple figures can be drawn.  Note that when using imshow the image will be created as a PNG with the raw\n",
    "image dimensions unless the image has a title or labels."
   ]
  },
  {
   "cell_type": "code",
   "execution_count": null,
   "metadata": {},
   "outputs": [],
   "source": [
    "% small image\n",
    "imshow(randn(100,100))\n",
    "\n",
    "% let's change the data range\n",
    "figure\n",
    "imshow(randn(100,100), [-10 10])\n",
    "\n",
    "% let's try automatic range and different size\n",
    "figure\n",
    "imshow(randn(100,200), [])\n",
    "colormap('autumn')"
   ]
  },
  {
   "cell_type": "code",
   "execution_count": null,
   "metadata": {},
   "outputs": [],
   "source": [
    "% Create an RGB image with no title or labels\n",
    "close all hidden\n",
    "image = zeros(300,400,3);\n",
    "image(1:100,:,1) = 0.9;  % Red\n",
    "image(101:200,:,2) = rand(100,400);  % Green\n",
    "image(201:300,:,3) = 0.9;  % Blue\n",
    "imshow(image)"
   ]
  },
  {
   "cell_type": "code",
   "execution_count": null,
   "metadata": {},
   "outputs": [],
   "source": [
    "% image that is too small to display raw (<100 pixels)\n",
    "imshow(rand(50,50))"
   ]
  },
  {
   "cell_type": "code",
   "execution_count": null,
   "metadata": {},
   "outputs": [],
   "source": [
    "% let's add a title - this produces full figure\n",
    "imshow(rand(100,100))\n",
    "title('Hello')\n",
    "\n",
    "% let's create an image next to a plot\n",
    "figure\n",
    "subplot(121)\n",
    "plot([1,2,3])\n",
    "subplot(122)\n",
    "imshow(randn(100,100))"
   ]
  },
  {
   "cell_type": "code",
   "execution_count": null,
   "metadata": {
    "scrolled": true
   },
   "outputs": [],
   "source": [
    "%lsmagic"
   ]
  },
  {
   "cell_type": "code",
   "execution_count": null,
   "metadata": {},
   "outputs": [],
   "source": []
  }
 ],
 "metadata": {
  "anaconda-cloud": {},
  "kernelspec": {
   "display_name": "Octave",
   "language": "octave",
   "name": "octave"
  },
  "language_info": {
   "file_extension": ".m",
   "help_links": [
    {
     "text": "GNU Octave",
     "url": "https://www.gnu.org/software/octave/support.html"
    },
    {
     "text": "Octave Kernel",
     "url": "https://github.com/Calysto/octave_kernel"
    },
    {
     "text": "MetaKernel Magics",
     "url": "https://metakernel.readthedocs.io/en/latest/source/README.html"
    }
   ],
   "mimetype": "text/x-octave",
   "name": "octave",
   "version": "4.2.2"
  }
 },
 "nbformat": 4,
 "nbformat_minor": 2
}
