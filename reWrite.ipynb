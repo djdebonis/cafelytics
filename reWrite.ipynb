{
 "cells": [
  {
   "cell_type": "code",
   "execution_count": 1,
   "metadata": {},
   "outputs": [],
   "source": [
    "import pandas as pd"
   ]
  },
  {
   "cell_type": "markdown",
   "metadata": {},
   "source": [
    "## Plan\n",
    "\n",
    "### Here are the steps you need to complete to make this function:\n",
    "1. open the .yaml file with tree properties\n",
    "    * use these tree properties to assign a death year for each tree based on (1) species and (2) age/year planted\n",
    "    \n",
    "2. develop the architecture of the .yaml file with strategies. What will this look like? What information will it hold? How flexible/rigid will it be (at first)?\n",
    "\n",
    "3. first off, based on the initial data, determine the death year of all of the trees. append this to a column 'death year' in the new dataframe\n",
    "\n",
    "4. start by making a function that simply creates the new event dataframe assuming no strategies are implemented. I.e. all the rows will have status of either \"plant\" or \"replant.\" End year is determined by the death year, and replant is simply determined by the death year + 1.\n",
    "\n",
    "4. add to that function the ability to add pruning, so the status will now be \"plant,\" \"replant,\" or \"prune\"\n",
    "    * pruning will have to be implemented with some sort of year crieteria (in what year, or even better, at what age, should farmers prune?)\n",
    "    * with the new row that represents the pruning event, death year carries over but is altered slightly (because we are working under the assumption that pruning increases production life)\n",
    "    * unless another event is called, end year is death year\n",
    "    \n",
    "5. add to that function the ability to add intercropping.\n",
    "    * intercropping will be implemented with (1) a year criteria and (2) a proportion criteria (what proportion of the trees will be replanted). \n",
    "    * if the trees in the originaal dataset reach the year or age criteria, the original row will become inactive because the 'end year' has been reached. The row will then be split into two rows (but both still show the same ID number, which is how we identify them as the same plot). The first row will be the trees that were left alone, and so it will be the exact same except that is has proportionally less cuerdas (the death year will carry over from the original). The second row will have the trees which were replanted. Their\n"
   ]
  },
  {
   "cell_type": "code",
   "execution_count": 2,
   "metadata": {},
   "outputs": [],
   "source": [
    "data = pd.read_csv(\"data/demoData.csv\")"
   ]
  },
  {
   "cell_type": "code",
   "execution_count": 8,
   "metadata": {},
   "outputs": [
    {
     "data": {
      "text/html": [
       "<div>\n",
       "<style scoped>\n",
       "    .dataframe tbody tr th:only-of-type {\n",
       "        vertical-align: middle;\n",
       "    }\n",
       "\n",
       "    .dataframe tbody tr th {\n",
       "        vertical-align: top;\n",
       "    }\n",
       "\n",
       "    .dataframe thead th {\n",
       "        text-align: right;\n",
       "    }\n",
       "</style>\n",
       "<table border=\"1\" class=\"dataframe\">\n",
       "  <thead>\n",
       "    <tr style=\"text-align: right;\">\n",
       "      <th></th>\n",
       "      <th>Unnamed: 0</th>\n",
       "      <th>farmerName</th>\n",
       "      <th>treeType</th>\n",
       "      <th>numCuerdas</th>\n",
       "      <th>ageOfTrees</th>\n",
       "      <th>yearPlanted</th>\n",
       "    </tr>\n",
       "  </thead>\n",
       "  <tbody>\n",
       "    <tr>\n",
       "      <th>0</th>\n",
       "      <td>0</td>\n",
       "      <td>Estefanía Cazares</td>\n",
       "      <td>catuai</td>\n",
       "      <td>9</td>\n",
       "      <td>9</td>\n",
       "      <td>2011</td>\n",
       "    </tr>\n",
       "    <tr>\n",
       "      <th>1</th>\n",
       "      <td>1</td>\n",
       "      <td>Aldo Linares</td>\n",
       "      <td>catuai</td>\n",
       "      <td>1</td>\n",
       "      <td>2</td>\n",
       "      <td>2018</td>\n",
       "    </tr>\n",
       "    <tr>\n",
       "      <th>2</th>\n",
       "      <td>2</td>\n",
       "      <td>Aldo Linares</td>\n",
       "      <td>borbon</td>\n",
       "      <td>1</td>\n",
       "      <td>20</td>\n",
       "      <td>2000</td>\n",
       "    </tr>\n",
       "    <tr>\n",
       "      <th>3</th>\n",
       "      <td>3</td>\n",
       "      <td>Linda Gabriel Portillo Herrera</td>\n",
       "      <td>catuai</td>\n",
       "      <td>4</td>\n",
       "      <td>7</td>\n",
       "      <td>2013</td>\n",
       "    </tr>\n",
       "    <tr>\n",
       "      <th>4</th>\n",
       "      <td>4</td>\n",
       "      <td>Linda Gabriel Portillo Herrera</td>\n",
       "      <td>borbon</td>\n",
       "      <td>10</td>\n",
       "      <td>27</td>\n",
       "      <td>1993</td>\n",
       "    </tr>\n",
       "  </tbody>\n",
       "</table>\n",
       "</div>"
      ],
      "text/plain": [
       "   Unnamed: 0                      farmerName treeType  numCuerdas  \\\n",
       "0           0               Estefanía Cazares   catuai           9   \n",
       "1           1                    Aldo Linares   catuai           1   \n",
       "2           2                    Aldo Linares   borbon           1   \n",
       "3           3  Linda Gabriel Portillo Herrera   catuai           4   \n",
       "4           4  Linda Gabriel Portillo Herrera   borbon          10   \n",
       "\n",
       "   ageOfTrees  yearPlanted  \n",
       "0           9         2011  \n",
       "1           2         2018  \n",
       "2          20         2000  \n",
       "3           7         2013  \n",
       "4          27         1993  "
      ]
     },
     "execution_count": 8,
     "metadata": {},
     "output_type": "execute_result"
    }
   ],
   "source": [
    "# for now, 'Unnamed: 0' will be our ID number\n",
    "yearPlanted = 2020 - data['ageOfTrees']\n",
    "data['yearPlanted'] = yearPlanted\n",
    "data.head()"
   ]
  },
  {
   "cell_type": "code",
   "execution_count": null,
   "metadata": {},
   "outputs": [],
   "source": [
    "# lets say that everyone prunes when their trees hit 10 years old, to start.\n",
    "\n",
    "for i in range"
   ]
  },
  {
   "cell_type": "code",
   "execution_count": null,
   "metadata": {},
   "outputs": [],
   "source": []
  }
 ],
 "metadata": {
  "kernelspec": {
   "display_name": "Python 3",
   "language": "python",
   "name": "python3"
  },
  "language_info": {
   "codemirror_mode": {
    "name": "ipython",
    "version": 3
   },
   "file_extension": ".py",
   "mimetype": "text/x-python",
   "name": "python",
   "nbconvert_exporter": "python",
   "pygments_lexer": "ipython3",
   "version": "3.7.3"
  }
 },
 "nbformat": 4,
 "nbformat_minor": 4
}
